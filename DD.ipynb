{
 "cells": [
  {
   "cell_type": "markdown",
   "id": "715ce0dc",
   "metadata": {},
   "source": [
    "# Model\n",
    "\n"
   ]
  },
  {
   "cell_type": "code",
   "execution_count": 1,
   "id": "80054352",
   "metadata": {},
   "outputs": [],
   "source": [
    "# Importing the necessary libraries\n",
    "import os\n",
    "from keras.preprocessing import image\n",
    "import matplotlib.pyplot as plt \n",
    "import numpy as np\n",
    "from keras.utils.np_utils import to_categorical\n",
    "import random,shutil\n",
    "from keras.models import Sequential\n",
    "from keras.layers import Dropout,Conv2D,Flatten,Dense, MaxPooling2D, BatchNormalization\n",
    "from keras.models import load_model"
   ]
  },
  {
   "cell_type": "code",
   "execution_count": 2,
   "id": "fc7bb0b7",
   "metadata": {},
   "outputs": [],
   "source": [
    "# Defining the generator function to return batches of data(images)\n",
    "def generator(dir, gen=image.ImageDataGenerator(rescale=1./255), shuffle=True,batch_size=1,target_size=(24,24),class_mode='categorical' ):\n",
    "\n",
    "    return gen.flow_from_directory(dir,batch_size=batch_size,shuffle=shuffle,color_mode='grayscale',class_mode=class_mode,target_size=target_size)"
   ]
  },
  {
   "cell_type": "code",
   "execution_count": 3,
   "id": "50b23a86",
   "metadata": {},
   "outputs": [
    {
     "name": "stdout",
     "output_type": "stream",
     "text": [
      "Found 2467 images belonging to 4 classes.\n",
      "Found 433 images belonging to 4 classes.\n",
      "77 13\n"
     ]
    }
   ],
   "source": [
    "# Defining relevant variables    (this is just a sample dataset of a few images for demonstration purpose)\n",
    "BS= 32          # Batch size\n",
    "TS=(24,24)      # Target size\n",
    "train_batch= generator('YawnDS/train',shuffle=True, batch_size=BS,target_size=TS)\n",
    "valid_batch= generator('YawnDS/valid',shuffle=True, batch_size=BS,target_size=TS)\n",
    "SPE= len(train_batch.classes)//BS   # Number of steps per epoch\n",
    "VS = len(valid_batch.classes)//BS   # Validation steps\n",
    "print(SPE,VS)"
   ]
  },
  {
   "cell_type": "code",
   "execution_count": 4,
   "id": "4cc0dda3",
   "metadata": {},
   "outputs": [],
   "source": [
    "# Defining model architecture\n",
    "model = Sequential([ \n",
    "    Conv2D(32, kernel_size=(3, 3), activation='relu', input_shape=(24,24,1)), # 2D Convolutional layer, 32 3x3 filters\n",
    "    # relu was chosen to provide faster convergence during training and to effectively capture relevant features from data\n",
    "    Conv2D(32,(3,3),activation='relu'),  # 2D Convolutional layer with 32 3x3 filters, relu activation function\n",
    "    Conv2D(64, (3, 3), activation='relu'), # 2D Convolutional layer, 64 3x3 filters, relu\n",
    "    \n",
    "    Dropout(0.25), # Randomly turn off 25% neurons to prevent overfitting\n",
    "    Flatten(), # Flatten output to a 1D array (since we only want classification)\n",
    "    Dense(128, activation='relu'), # Fully connected layer to learn complex relationships and get relevant data\n",
    "    Dropout(0.5), # One more dropout layer to further prevent overfitting\n",
    "#output a softmax to squash the matrix into output probabilities\n",
    "    Dense(4, activation='softmax') # Final layer to produce classification probabilities\n",
    "    # Here, replace 4 with 2 if you aren't using the yawn eye dataset (in case it throws a Graph execution error)\n",
    "])"
   ]
  },
  {
   "cell_type": "code",
   "execution_count": 5,
   "id": "9889aa95",
   "metadata": {},
   "outputs": [],
   "source": [
    "# # Compile, Train and save the model    (Uncomment this cell to train and save the model)\n",
    "# model.compile(optimizer='adam',loss='categorical_crossentropy',metrics=['accuracy'])\n",
    "# model.fit(train_batch, validation_data=valid_batch,epochs=15,steps_per_epoch=SPE ,validation_steps=VS)\n",
    "# model.save('models/ddsCnn.h5', overwrite=True)"
   ]
  },
  {
   "cell_type": "markdown",
   "id": "2bf8df97",
   "metadata": {},
   "source": [
    "# Main code"
   ]
  },
  {
   "cell_type": "code",
   "execution_count": 6,
   "id": "4686c9cc",
   "metadata": {},
   "outputs": [
    {
     "name": "stdout",
     "output_type": "stream",
     "text": [
      "pygame 2.2.0 (SDL 2.0.22, Python 3.11.1)\n",
      "Hello from the pygame community. https://www.pygame.org/contribute.html\n"
     ]
    }
   ],
   "source": [
    "# Importing relevant libraries\n",
    "import cv2\n",
    "import os\n",
    "from keras.models import load_model\n",
    "import numpy as np\n",
    "from pygame import mixer\n",
    "import time"
   ]
  },
  {
   "cell_type": "code",
   "execution_count": 7,
   "id": "f47db3ff",
   "metadata": {},
   "outputs": [],
   "source": [
    "# Alarm sound and initialising cascade classifiers\n",
    "mixer.init()\n",
    "sound = mixer.Sound('alarm.wav')\n",
    "\n",
    "face = cv2.CascadeClassifier('haar cascade files\\haarcascade_frontalface_alt.xml')\n",
    "leye = cv2.CascadeClassifier('haar cascade files\\haarcascade_lefteye_2splits.xml')\n",
    "reye = cv2.CascadeClassifier('haar cascade files\\haarcascade_righteye_2splits.xml')"
   ]
  },
  {
   "cell_type": "code",
   "execution_count": 8,
   "id": "e0cddf45",
   "metadata": {},
   "outputs": [],
   "source": [
    "# Labelling, loading model and creating frame (gui frame)\n",
    "lbl=['Close','Open']\n",
    "\n",
    "model = load_model('models/ddsCnn.h5')\n",
    "path = os.getcwd()\n",
    "cap = cv2.VideoCapture(0)\n",
    "font = cv2.FONT_HERSHEY_COMPLEX_SMALL\n",
    "count=0\n",
    "score=0\n",
    "thicc=2\n",
    "rpred=[99]\n",
    "lpred=[99]"
   ]
  },
  {
   "cell_type": "code",
   "execution_count": 9,
   "id": "7f476deb",
   "metadata": {},
   "outputs": [],
   "source": [
    "# Main loop to record video input, preprocess image, feed it to the model and give output\n",
    "while(True):\n",
    "    ret, frame = cap.read()\n",
    "    height,width = frame.shape[:2] \n",
    "\n",
    "    gray = cv2.cvtColor(frame, cv2.COLOR_BGR2GRAY)\n",
    "    \n",
    "    faces = face.detectMultiScale(gray,minNeighbors=5,scaleFactor=1.1,minSize=(25,25))\n",
    "    left_eye = leye.detectMultiScale(gray)\n",
    "    right_eye =  reye.detectMultiScale(gray)\n",
    "\n",
    "    cv2.rectangle(frame, (0,height-50) , (200,height) , (0,0,0) , thickness=cv2.FILLED )\n",
    "\n",
    "    for (x,y,w,h) in faces:\n",
    "        cv2.rectangle(frame, (x,y) , (x+w,y+h) , (100,100,100) , 1 )\n",
    "\n",
    "    for (x,y,w,h) in right_eye:\n",
    "        r_eye=frame[y:y+h,x:x+w]\n",
    "        count=count+1\n",
    "        r_eye = cv2.cvtColor(r_eye,cv2.COLOR_BGR2GRAY)\n",
    "        r_eye = cv2.resize(r_eye,(24,24))\n",
    "        r_eye= r_eye/255\n",
    "        r_eye=  r_eye.reshape(24,24,-1)\n",
    "        r_eye = np.expand_dims(r_eye,axis=0)\n",
    "        rpred = model.predict_classes(r_eye)\n",
    "        if(rpred[0]==1):\n",
    "            lbl='Open' \n",
    "        if(rpred[0]==0):\n",
    "            lbl='Closed'\n",
    "        break\n",
    "\n",
    "    for (x,y,w,h) in left_eye:\n",
    "        l_eye=frame[y:y+h,x:x+w]\n",
    "        count=count+1\n",
    "        l_eye = cv2.cvtColor(l_eye,cv2.COLOR_BGR2GRAY)  \n",
    "        l_eye = cv2.resize(l_eye,(24,24))\n",
    "        l_eye= l_eye/255\n",
    "        l_eye=l_eye.reshape(24,24,-1)\n",
    "        l_eye = np.expand_dims(l_eye,axis=0)\n",
    "        lpred = model.predict_classes(l_eye)\n",
    "        if(lpred[0]==1):\n",
    "            lbl='NOT Drowsy'   \n",
    "        if(lpred[0]==0):\n",
    "            lbl='Drowsy'\n",
    "        break\n",
    "\n",
    "    if(rpred[0]==0 and lpred[0]==0):\n",
    "        score=score+1\n",
    "        cv2.putText(frame,\"Drowsy\",(10,height-20), font, 1,(255,255,255),1,cv2.LINE_AA)\n",
    "    # if(rpred[0]==1 or lpred[0]==1):\n",
    "    else:\n",
    "        score=score-1\n",
    "        cv2.putText(frame,\"Not Drowsy\",(10,height-20), font, 1,(255,255,255),1,cv2.LINE_AA)\n",
    "    \n",
    "        \n",
    "    if(score<0):\n",
    "        score=0   \n",
    "    cv2.putText(frame,'Score:'+str(score),(100,height-20), font, 1,(255,255,255),1,cv2.LINE_AA)\n",
    "    if(score>15):\n",
    "        #person is feeling sleepy so we beep the alarm\n",
    "        cv2.imwrite(os.path.join(path,'image.jpg'),frame)\n",
    "        try:\n",
    "            sound.play()\n",
    "            \n",
    "        except:  # isplaying = False\n",
    "            pass\n",
    "        if(thicc<16):\n",
    "            thicc= thicc+2\n",
    "        else:\n",
    "            thicc=thicc-2\n",
    "            if(thicc<2):\n",
    "                thicc=2\n",
    "        cv2.rectangle(frame,(0,0),(width,height),(0,0,255),thicc) \n",
    "    cv2.imshow('frame',frame)\n",
    "    if cv2.waitKey(1) & 0xFF == ord('q'):\n",
    "        break\n",
    "cap.release()\n",
    "cv2.destroyAllWindows()"
   ]
  },
  {
   "cell_type": "markdown",
   "id": "34ec9051",
   "metadata": {},
   "source": [
    "# GUI "
   ]
  },
  {
   "cell_type": "code",
   "execution_count": 10,
   "id": "8be26f82",
   "metadata": {},
   "outputs": [],
   "source": [
    "# Importing relevant libraries\n",
    "import tkinter as tk\n",
    "from tkinter import messagebox\n",
    "import subprocess\n",
    "import webbrowser"
   ]
  },
  {
   "cell_type": "code",
   "execution_count": 11,
   "id": "79de8573",
   "metadata": {},
   "outputs": [],
   "source": [
    "# Function to start the system when the button is pressed\n",
    "def start_clicked():\n",
    "    messagebox.showinfo(\"Hello\", \"Please wait while the system loads...\")\n",
    "    subprocess.call([\"python\", \"drowsiness detection.py\"])"
   ]
  },
  {
   "cell_type": "code",
   "execution_count": 12,
   "id": "2147d94b",
   "metadata": {},
   "outputs": [],
   "source": [
    "# Function to exit the system when the button is pressed\n",
    "def exit_clicked():\n",
    "    window.destroy()"
   ]
  },
  {
   "cell_type": "code",
   "execution_count": 13,
   "id": "282ababb",
   "metadata": {},
   "outputs": [
    {
     "data": {
      "text/plain": [
       "''"
      ]
     },
     "execution_count": 13,
     "metadata": {},
     "output_type": "execute_result"
    }
   ],
   "source": [
    "# Main window\n",
    "window = tk.Tk()\n",
    "window.title(\"Homepage\")\n",
    "window.geometry(\"700x500\")  # Set window size to 700x500"
   ]
  },
  {
   "cell_type": "code",
   "execution_count": 14,
   "id": "1c40d9ac",
   "metadata": {},
   "outputs": [],
   "source": [
    "# Create a label for \"Welcome\" text\n",
    "welcome_label = tk.Label(\n",
    "    window, text=\"Welcome to the Drowsiness Detection System\", font=(\"Helvetica\", 24)\n",
    ")\n",
    "welcome_label.pack(pady=20)"
   ]
  },
  {
   "cell_type": "code",
   "execution_count": 15,
   "id": "65cdd5da",
   "metadata": {},
   "outputs": [],
   "source": [
    "# Create a frame to center the buttons\n",
    "button_frame = tk.Frame(window)\n",
    "button_frame.pack()"
   ]
  },
  {
   "cell_type": "code",
   "execution_count": 16,
   "id": "d96025c7",
   "metadata": {},
   "outputs": [],
   "source": [
    "# Buttons\n",
    "start_button = tk.Button(\n",
    "    button_frame, text=\"Start Monitoring\", command=start_clicked, font=(\"Helvetica\", 16)\n",
    ")\n",
    "start_button.pack(pady=20)\n",
    "\n",
    "# Create an \"Exit\" button\n",
    "exit_button = tk.Button(\n",
    "    button_frame, text=\"Exit\", command=exit_clicked, font=(\"Helvetica\", 16)\n",
    ")\n",
    "exit_button.pack(pady=10)"
   ]
  },
  {
   "cell_type": "code",
   "execution_count": 17,
   "id": "b6b9c47c",
   "metadata": {},
   "outputs": [],
   "source": [
    "# Set background and foreground colors\n",
    "welcome_label.configure(bg=\"lightgray\", fg=\"blue\")\n",
    "start_button.configure(bg=\"green\", fg=\"white\")\n",
    "exit_button.configure(bg=\"red\", fg=\"white\")"
   ]
  },
  {
   "cell_type": "code",
   "execution_count": 18,
   "id": "39457362",
   "metadata": {},
   "outputs": [],
   "source": [
    "# Run the Tkinter event loop\n",
    "window.mainloop()"
   ]
  }
 ],
 "metadata": {
  "kernelspec": {
   "display_name": "Python 3 (ipykernel)",
   "language": "python",
   "name": "python3"
  },
  "language_info": {
   "codemirror_mode": {
    "name": "ipython",
    "version": 3
   },
   "file_extension": ".py",
   "mimetype": "text/x-python",
   "name": "python",
   "nbconvert_exporter": "python",
   "pygments_lexer": "ipython3",
   "version": "3.11.1"
  }
 },
 "nbformat": 4,
 "nbformat_minor": 5
}
